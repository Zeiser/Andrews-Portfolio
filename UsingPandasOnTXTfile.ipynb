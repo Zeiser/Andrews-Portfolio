{
 "cells": [
  {
   "cell_type": "code",
   "execution_count": 2,
   "metadata": {},
   "outputs": [],
   "source": [
    "url =  'https://www.sec.gov/Archives/edgar/full-index/2022/QTR3/master.idx'"
   ]
  },
  {
   "cell_type": "code",
   "execution_count": 2,
   "metadata": {},
   "outputs": [],
   "source": [
    "import pandas as pd\n",
    "\n",
    "url = 'https://www.sec.gov/Archives/edgar/full-index/2022/QTR3/master.zip'\n",
    "user_agent = {'User-Agent': 'Bryant University, dlouton@bryant.edu'}\n",
    "\n",
    "df = pd.read_csv(url, sep = '|', skiprows = 9, low_memory=False, storage_options = user_agent)\n"
   ]
  },
  {
   "cell_type": "code",
   "execution_count": 3,
   "metadata": {},
   "outputs": [
    {
     "data": {
      "text/html": [
       "<div>\n",
       "<style scoped>\n",
       "    .dataframe tbody tr th:only-of-type {\n",
       "        vertical-align: middle;\n",
       "    }\n",
       "\n",
       "    .dataframe tbody tr th {\n",
       "        vertical-align: top;\n",
       "    }\n",
       "\n",
       "    .dataframe thead th {\n",
       "        text-align: right;\n",
       "    }\n",
       "</style>\n",
       "<table border=\"1\" class=\"dataframe\">\n",
       "  <thead>\n",
       "    <tr style=\"text-align: right;\">\n",
       "      <th></th>\n",
       "      <th>CIK</th>\n",
       "      <th>Company Name</th>\n",
       "      <th>Form Type</th>\n",
       "      <th>Date Filed</th>\n",
       "      <th>Filename</th>\n",
       "    </tr>\n",
       "  </thead>\n",
       "  <tbody>\n",
       "    <tr>\n",
       "      <th>0</th>\n",
       "      <td>----------------------------------------------...</td>\n",
       "      <td>NaN</td>\n",
       "      <td>NaN</td>\n",
       "      <td>NaN</td>\n",
       "      <td>NaN</td>\n",
       "    </tr>\n",
       "    <tr>\n",
       "      <th>1</th>\n",
       "      <td>1000045</td>\n",
       "      <td>NICHOLAS FINANCIAL INC</td>\n",
       "      <td>10-Q</td>\n",
       "      <td>2022-08-10</td>\n",
       "      <td>edgar/data/1000045/0000950170-22-016293.txt</td>\n",
       "    </tr>\n",
       "    <tr>\n",
       "      <th>2</th>\n",
       "      <td>1000045</td>\n",
       "      <td>NICHOLAS FINANCIAL INC</td>\n",
       "      <td>4</td>\n",
       "      <td>2022-09-01</td>\n",
       "      <td>edgar/data/1000045/0001000045-22-000004.txt</td>\n",
       "    </tr>\n",
       "    <tr>\n",
       "      <th>3</th>\n",
       "      <td>1000045</td>\n",
       "      <td>NICHOLAS FINANCIAL INC</td>\n",
       "      <td>4</td>\n",
       "      <td>2022-09-01</td>\n",
       "      <td>edgar/data/1000045/0001000045-22-000005.txt</td>\n",
       "    </tr>\n",
       "    <tr>\n",
       "      <th>4</th>\n",
       "      <td>1000045</td>\n",
       "      <td>NICHOLAS FINANCIAL INC</td>\n",
       "      <td>4</td>\n",
       "      <td>2022-09-01</td>\n",
       "      <td>edgar/data/1000045/0001000045-22-000006.txt</td>\n",
       "    </tr>\n",
       "  </tbody>\n",
       "</table>\n",
       "</div>"
      ],
      "text/plain": [
       "                                                 CIK            Company Name  \\\n",
       "0  ----------------------------------------------...                     NaN   \n",
       "1                                            1000045  NICHOLAS FINANCIAL INC   \n",
       "2                                            1000045  NICHOLAS FINANCIAL INC   \n",
       "3                                            1000045  NICHOLAS FINANCIAL INC   \n",
       "4                                            1000045  NICHOLAS FINANCIAL INC   \n",
       "\n",
       "  Form Type  Date Filed                                     Filename  \n",
       "0       NaN         NaN                                          NaN  \n",
       "1      10-Q  2022-08-10  edgar/data/1000045/0000950170-22-016293.txt  \n",
       "2         4  2022-09-01  edgar/data/1000045/0001000045-22-000004.txt  \n",
       "3         4  2022-09-01  edgar/data/1000045/0001000045-22-000005.txt  \n",
       "4         4  2022-09-01  edgar/data/1000045/0001000045-22-000006.txt  "
      ]
     },
     "execution_count": 3,
     "metadata": {},
     "output_type": "execute_result"
    }
   ],
   "source": [
    "df.head()"
   ]
  },
  {
   "cell_type": "code",
   "execution_count": 4,
   "metadata": {},
   "outputs": [
    {
     "data": {
      "text/html": [
       "<div>\n",
       "<style scoped>\n",
       "    .dataframe tbody tr th:only-of-type {\n",
       "        vertical-align: middle;\n",
       "    }\n",
       "\n",
       "    .dataframe tbody tr th {\n",
       "        vertical-align: top;\n",
       "    }\n",
       "\n",
       "    .dataframe thead th {\n",
       "        text-align: right;\n",
       "    }\n",
       "</style>\n",
       "<table border=\"1\" class=\"dataframe\">\n",
       "  <thead>\n",
       "    <tr style=\"text-align: right;\">\n",
       "      <th></th>\n",
       "      <th>CIK</th>\n",
       "      <th>Company Name</th>\n",
       "      <th>Form Type</th>\n",
       "      <th>Date Filed</th>\n",
       "      <th>Filename</th>\n",
       "    </tr>\n",
       "  </thead>\n",
       "  <tbody>\n",
       "    <tr>\n",
       "      <th>1</th>\n",
       "      <td>1000045</td>\n",
       "      <td>NICHOLAS FINANCIAL INC</td>\n",
       "      <td>10-Q</td>\n",
       "      <td>2022-08-10</td>\n",
       "      <td>edgar/data/1000045/0000950170-22-016293.txt</td>\n",
       "    </tr>\n",
       "    <tr>\n",
       "      <th>2</th>\n",
       "      <td>1000045</td>\n",
       "      <td>NICHOLAS FINANCIAL INC</td>\n",
       "      <td>4</td>\n",
       "      <td>2022-09-01</td>\n",
       "      <td>edgar/data/1000045/0001000045-22-000004.txt</td>\n",
       "    </tr>\n",
       "    <tr>\n",
       "      <th>3</th>\n",
       "      <td>1000045</td>\n",
       "      <td>NICHOLAS FINANCIAL INC</td>\n",
       "      <td>4</td>\n",
       "      <td>2022-09-01</td>\n",
       "      <td>edgar/data/1000045/0001000045-22-000005.txt</td>\n",
       "    </tr>\n",
       "    <tr>\n",
       "      <th>4</th>\n",
       "      <td>1000045</td>\n",
       "      <td>NICHOLAS FINANCIAL INC</td>\n",
       "      <td>4</td>\n",
       "      <td>2022-09-01</td>\n",
       "      <td>edgar/data/1000045/0001000045-22-000006.txt</td>\n",
       "    </tr>\n",
       "    <tr>\n",
       "      <th>5</th>\n",
       "      <td>1000045</td>\n",
       "      <td>NICHOLAS FINANCIAL INC</td>\n",
       "      <td>4</td>\n",
       "      <td>2022-09-01</td>\n",
       "      <td>edgar/data/1000045/0001000045-22-000007.txt</td>\n",
       "    </tr>\n",
       "    <tr>\n",
       "      <th>...</th>\n",
       "      <td>...</td>\n",
       "      <td>...</td>\n",
       "      <td>...</td>\n",
       "      <td>...</td>\n",
       "      <td>...</td>\n",
       "    </tr>\n",
       "    <tr>\n",
       "      <th>234408</th>\n",
       "      <td>9984</td>\n",
       "      <td>BARNES GROUP INC</td>\n",
       "      <td>4</td>\n",
       "      <td>2022-08-16</td>\n",
       "      <td>edgar/data/9984/0000009984-22-000154.txt</td>\n",
       "    </tr>\n",
       "    <tr>\n",
       "      <th>234409</th>\n",
       "      <td>9984</td>\n",
       "      <td>BARNES GROUP INC</td>\n",
       "      <td>4</td>\n",
       "      <td>2022-09-06</td>\n",
       "      <td>edgar/data/9984/0000009984-22-000156.txt</td>\n",
       "    </tr>\n",
       "    <tr>\n",
       "      <th>234410</th>\n",
       "      <td>9984</td>\n",
       "      <td>BARNES GROUP INC</td>\n",
       "      <td>4</td>\n",
       "      <td>2022-09-13</td>\n",
       "      <td>edgar/data/9984/0000009984-22-000158.txt</td>\n",
       "    </tr>\n",
       "    <tr>\n",
       "      <th>234411</th>\n",
       "      <td>9984</td>\n",
       "      <td>BARNES GROUP INC</td>\n",
       "      <td>8-K</td>\n",
       "      <td>2022-07-29</td>\n",
       "      <td>edgar/data/9984/0000009984-22-000126.txt</td>\n",
       "    </tr>\n",
       "    <tr>\n",
       "      <th>234412</th>\n",
       "      <td>9984</td>\n",
       "      <td>BARNES GROUP INC</td>\n",
       "      <td>S-8</td>\n",
       "      <td>2022-07-14</td>\n",
       "      <td>edgar/data/9984/0000009984-22-000118.txt</td>\n",
       "    </tr>\n",
       "  </tbody>\n",
       "</table>\n",
       "<p>234412 rows × 5 columns</p>\n",
       "</div>"
      ],
      "text/plain": [
       "            CIK            Company Name Form Type  Date Filed  \\\n",
       "1       1000045  NICHOLAS FINANCIAL INC      10-Q  2022-08-10   \n",
       "2       1000045  NICHOLAS FINANCIAL INC         4  2022-09-01   \n",
       "3       1000045  NICHOLAS FINANCIAL INC         4  2022-09-01   \n",
       "4       1000045  NICHOLAS FINANCIAL INC         4  2022-09-01   \n",
       "5       1000045  NICHOLAS FINANCIAL INC         4  2022-09-01   \n",
       "...         ...                     ...       ...         ...   \n",
       "234408     9984        BARNES GROUP INC         4  2022-08-16   \n",
       "234409     9984        BARNES GROUP INC         4  2022-09-06   \n",
       "234410     9984        BARNES GROUP INC         4  2022-09-13   \n",
       "234411     9984        BARNES GROUP INC       8-K  2022-07-29   \n",
       "234412     9984        BARNES GROUP INC       S-8  2022-07-14   \n",
       "\n",
       "                                           Filename  \n",
       "1       edgar/data/1000045/0000950170-22-016293.txt  \n",
       "2       edgar/data/1000045/0001000045-22-000004.txt  \n",
       "3       edgar/data/1000045/0001000045-22-000005.txt  \n",
       "4       edgar/data/1000045/0001000045-22-000006.txt  \n",
       "5       edgar/data/1000045/0001000045-22-000007.txt  \n",
       "...                                             ...  \n",
       "234408     edgar/data/9984/0000009984-22-000154.txt  \n",
       "234409     edgar/data/9984/0000009984-22-000156.txt  \n",
       "234410     edgar/data/9984/0000009984-22-000158.txt  \n",
       "234411     edgar/data/9984/0000009984-22-000126.txt  \n",
       "234412     edgar/data/9984/0000009984-22-000118.txt  \n",
       "\n",
       "[234412 rows x 5 columns]"
      ]
     },
     "execution_count": 4,
     "metadata": {},
     "output_type": "execute_result"
    }
   ],
   "source": [
    "df.dropna()"
   ]
  },
  {
   "cell_type": "code",
   "execution_count": null,
   "metadata": {
    "collapsed": true
   },
   "outputs": [],
   "source": []
  },
  {
   "cell_type": "code",
   "execution_count": 6,
   "metadata": {},
   "outputs": [
    {
     "data": {
      "text/plain": [
       "(234413, 5)"
      ]
     },
     "execution_count": 6,
     "metadata": {},
     "output_type": "execute_result"
    }
   ],
   "source": [
    "df.shape"
   ]
  },
  {
   "cell_type": "code",
   "execution_count": 7,
   "metadata": {},
   "outputs": [
    {
     "data": {
      "text/plain": [
       "234413"
      ]
     },
     "execution_count": 7,
     "metadata": {},
     "output_type": "execute_result"
    }
   ],
   "source": [
    "len(df)"
   ]
  },
  {
   "cell_type": "code",
   "execution_count": 13,
   "metadata": {},
   "outputs": [
    {
     "data": {
      "text/plain": [
       "4           70823\n",
       "424B2       25290\n",
       "8-K         15993\n",
       "NPORT-P     12465\n",
       "D            9678\n",
       "            ...  \n",
       "20FR12G         1\n",
       "25/A            1\n",
       "15F-15D         1\n",
       "10-KT/A         1\n",
       "8-K12B/A        1\n",
       "Name: Form Type, Length: 331, dtype: int64"
      ]
     },
     "execution_count": 13,
     "metadata": {},
     "output_type": "execute_result"
    }
   ],
   "source": [
    "df['Form Type'].value_counts()"
   ]
  },
  {
   "cell_type": "code",
   "execution_count": 16,
   "metadata": {},
   "outputs": [
    {
     "data": {
      "text/plain": [
       "4          70823\n",
       "424B2      25290\n",
       "8-K        15993\n",
       "NPORT-P    12465\n",
       "D           9678\n",
       "Name: Form Type, dtype: int64"
      ]
     },
     "execution_count": 16,
     "metadata": {},
     "output_type": "execute_result"
    }
   ],
   "source": [
    "df['Form Type'].value_counts().head(5)"
   ]
  },
  {
   "cell_type": "code",
   "execution_count": null,
   "metadata": {},
   "outputs": [],
   "source": []
  },
  {
   "cell_type": "code",
   "execution_count": 23,
   "metadata": {},
   "outputs": [
    {
     "data": {
      "text/plain": [
       "CIK      Company Name            Form Type\n",
       "1000045  NICHOLAS FINANCIAL INC  10-Q         1\n",
       "                                 4            5\n",
       "                                 8-K          8\n",
       "                                 DEF 14A      1\n",
       "                                 DEFR14A      1\n",
       "dtype: int64"
      ]
     },
     "execution_count": 23,
     "metadata": {},
     "output_type": "execute_result"
    }
   ],
   "source": [
    "df.groupby(['CIK','Company Name','Form Type']).size().head()"
   ]
  },
  {
   "cell_type": "code",
   "execution_count": 32,
   "metadata": {},
   "outputs": [],
   "source": [
    "def searcher(input,df):\n",
    "    CIK_input=df[df['CIK']==input]\n",
    "    formtypes=CIK_input['Form Type'].value_counts()\n",
    "    return formtypes"
   ]
  },
  {
   "cell_type": "code",
   "execution_count": 34,
   "metadata": {},
   "outputs": [
    {
     "data": {
      "text/plain": [
       "4        9\n",
       "8-K      3\n",
       "424B2    2\n",
       "10-Q     1\n",
       "4/A      1\n",
       "FWP      1\n",
       "Name: Form Type, dtype: int64"
      ]
     },
     "execution_count": 34,
     "metadata": {},
     "output_type": "execute_result"
    }
   ],
   "source": [
    "searcher('320193', df)"
   ]
  }
 ],
 "metadata": {
  "kernelspec": {
   "display_name": "Python 3 (ipykernel)",
   "language": "python",
   "name": "python3"
  },
  "language_info": {
   "codemirror_mode": {
    "name": "ipython",
    "version": 3
   },
   "file_extension": ".py",
   "mimetype": "text/x-python",
   "name": "python",
   "nbconvert_exporter": "python",
   "pygments_lexer": "ipython3",
   "version": "3.9.12"
  }
 },
 "nbformat": 4,
 "nbformat_minor": 2
}
